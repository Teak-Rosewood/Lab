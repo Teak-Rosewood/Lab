{
 "cells": [
  {
   "cell_type": "code",
   "execution_count": 1,
   "id": "89e914c2",
   "metadata": {},
   "outputs": [
    {
     "data": {
      "text/html": [
       "<div>\n",
       "<style scoped>\n",
       "    .dataframe tbody tr th:only-of-type {\n",
       "        vertical-align: middle;\n",
       "    }\n",
       "\n",
       "    .dataframe tbody tr th {\n",
       "        vertical-align: top;\n",
       "    }\n",
       "\n",
       "    .dataframe thead th {\n",
       "        text-align: right;\n",
       "    }\n",
       "</style>\n",
       "<table border=\"1\" class=\"dataframe\">\n",
       "  <thead>\n",
       "    <tr style=\"text-align: right;\">\n",
       "      <th></th>\n",
       "      <th>SlNo</th>\n",
       "      <th>Release Date</th>\n",
       "      <th>MovieName</th>\n",
       "      <th>ReleaseTime</th>\n",
       "      <th>Genre</th>\n",
       "      <th>Budget</th>\n",
       "      <th>BoxOfficeCollection</th>\n",
       "      <th>YoutubeViews</th>\n",
       "      <th>YoutubeLikes</th>\n",
       "      <th>YoutubeDislikes</th>\n",
       "    </tr>\n",
       "  </thead>\n",
       "  <tbody>\n",
       "    <tr>\n",
       "      <th>0</th>\n",
       "      <td>1</td>\n",
       "      <td>18-Apr-14</td>\n",
       "      <td>2 States</td>\n",
       "      <td>LW</td>\n",
       "      <td>Romance</td>\n",
       "      <td>36</td>\n",
       "      <td>104.00</td>\n",
       "      <td>8576361</td>\n",
       "      <td>26622</td>\n",
       "      <td>2527</td>\n",
       "    </tr>\n",
       "    <tr>\n",
       "      <th>1</th>\n",
       "      <td>2</td>\n",
       "      <td>4-Jan-13</td>\n",
       "      <td>Table No. 21</td>\n",
       "      <td>N</td>\n",
       "      <td>Thriller</td>\n",
       "      <td>10</td>\n",
       "      <td>12.00</td>\n",
       "      <td>1087320</td>\n",
       "      <td>1129</td>\n",
       "      <td>137</td>\n",
       "    </tr>\n",
       "    <tr>\n",
       "      <th>2</th>\n",
       "      <td>3</td>\n",
       "      <td>18-Jul-14</td>\n",
       "      <td>Amit Sahni Ki List</td>\n",
       "      <td>N</td>\n",
       "      <td>Comedy</td>\n",
       "      <td>10</td>\n",
       "      <td>4.00</td>\n",
       "      <td>572336</td>\n",
       "      <td>586</td>\n",
       "      <td>54</td>\n",
       "    </tr>\n",
       "    <tr>\n",
       "      <th>3</th>\n",
       "      <td>4</td>\n",
       "      <td>4-Jan-13</td>\n",
       "      <td>Rajdhani Express</td>\n",
       "      <td>N</td>\n",
       "      <td>Drama</td>\n",
       "      <td>7</td>\n",
       "      <td>0.35</td>\n",
       "      <td>42626</td>\n",
       "      <td>86</td>\n",
       "      <td>19</td>\n",
       "    </tr>\n",
       "    <tr>\n",
       "      <th>4</th>\n",
       "      <td>5</td>\n",
       "      <td>4-Jul-14</td>\n",
       "      <td>Bobby Jasoos</td>\n",
       "      <td>N</td>\n",
       "      <td>Comedy</td>\n",
       "      <td>18</td>\n",
       "      <td>10.80</td>\n",
       "      <td>3113427</td>\n",
       "      <td>4512</td>\n",
       "      <td>1224</td>\n",
       "    </tr>\n",
       "  </tbody>\n",
       "</table>\n",
       "</div>"
      ],
      "text/plain": [
       "   SlNo Release Date           MovieName ReleaseTime      Genre  Budget  \\\n",
       "0     1    18-Apr-14            2 States          LW    Romance      36   \n",
       "1     2     4-Jan-13        Table No. 21           N  Thriller       10   \n",
       "2     3    18-Jul-14  Amit Sahni Ki List           N     Comedy      10   \n",
       "3     4     4-Jan-13    Rajdhani Express           N     Drama        7   \n",
       "4     5     4-Jul-14        Bobby Jasoos           N     Comedy      18   \n",
       "\n",
       "   BoxOfficeCollection  YoutubeViews  YoutubeLikes  YoutubeDislikes  \n",
       "0               104.00       8576361         26622             2527  \n",
       "1                12.00       1087320          1129              137  \n",
       "2                 4.00        572336           586               54  \n",
       "3                 0.35         42626            86               19  \n",
       "4                10.80       3113427          4512             1224  "
      ]
     },
     "execution_count": 1,
     "metadata": {},
     "output_type": "execute_result"
    }
   ],
   "source": [
    "import pandas as pd\n",
    "import matplotlib.pyplot as plt\n",
    "import numpy as np \n",
    "import datetime as dt\n",
    "import seaborn as sns\n",
    "\n",
    "df = pd.read_csv('bollywood.csv')\n",
    "df.head()"
   ]
  },
  {
   "cell_type": "code",
   "execution_count": 2,
   "id": "45446022",
   "metadata": {},
   "outputs": [
    {
     "name": "stdout",
     "output_type": "stream",
     "text": [
      "Number of records present in the data set: 149\n"
     ]
    }
   ],
   "source": [
    "# Question 1\n",
    "\n",
    "print('Number of records present in the data set:', len(df))"
   ]
  },
  {
   "cell_type": "code",
   "execution_count": 3,
   "id": "40aa551a",
   "metadata": {
    "scrolled": true
   },
   "outputs": [
    {
     "name": "stdout",
     "output_type": "stream",
     "text": [
      "Action      24\n",
      "Romance     25\n",
      "Thriller    29\n",
      "Drama       35\n",
      "Comedy      36\n",
      "Name: Genre, dtype: int64\n",
      "Comedy      36\n",
      "Drama       35\n",
      "Thriller    29\n",
      "Romance     25\n",
      "Action      24\n",
      "Name: Genre, dtype: int64\n"
     ]
    }
   ],
   "source": [
    "# Question 2 \n",
    "\n",
    "values = df['Genre'].str.strip().value_counts(ascending=True)\n",
    "print(values)\n",
    "\n",
    "values = df['Genre'].str.strip().value_counts(ascending=False)\n",
    "print(values)"
   ]
  },
  {
   "cell_type": "code",
   "execution_count": 4,
   "id": "f7010804",
   "metadata": {},
   "outputs": [
    {
     "name": "stdout",
     "output_type": "stream",
     "text": [
      "Comedy    36\n",
      "Name: Genre, dtype: int64\n"
     ]
    }
   ],
   "source": [
    "# Question 3 \n",
    "\n",
    "max = df['Genre'].str.strip().value_counts(ascending=False).nlargest(n=1)\n",
    "print(max)"
   ]
  },
  {
   "cell_type": "code",
   "execution_count": 5,
   "id": "408a16c3",
   "metadata": {},
   "outputs": [
    {
     "data": {
      "text/html": [
       "<div>\n",
       "<style scoped>\n",
       "    .dataframe tbody tr th:only-of-type {\n",
       "        vertical-align: middle;\n",
       "    }\n",
       "\n",
       "    .dataframe tbody tr th {\n",
       "        vertical-align: top;\n",
       "    }\n",
       "\n",
       "    .dataframe thead th {\n",
       "        text-align: right;\n",
       "    }\n",
       "</style>\n",
       "<table border=\"1\" class=\"dataframe\">\n",
       "  <thead>\n",
       "    <tr style=\"text-align: right;\">\n",
       "      <th>ReleaseTime</th>\n",
       "      <th>FS</th>\n",
       "      <th>HS</th>\n",
       "      <th>LW</th>\n",
       "      <th>N</th>\n",
       "    </tr>\n",
       "    <tr>\n",
       "      <th>Genre</th>\n",
       "      <th></th>\n",
       "      <th></th>\n",
       "      <th></th>\n",
       "      <th></th>\n",
       "    </tr>\n",
       "  </thead>\n",
       "  <tbody>\n",
       "    <tr>\n",
       "      <th>Drama</th>\n",
       "      <td>4</td>\n",
       "      <td>6</td>\n",
       "      <td>1</td>\n",
       "      <td>24</td>\n",
       "    </tr>\n",
       "    <tr>\n",
       "      <th>Action</th>\n",
       "      <td>3</td>\n",
       "      <td>3</td>\n",
       "      <td>3</td>\n",
       "      <td>12</td>\n",
       "    </tr>\n",
       "    <tr>\n",
       "      <th>Action</th>\n",
       "      <td>0</td>\n",
       "      <td>0</td>\n",
       "      <td>0</td>\n",
       "      <td>3</td>\n",
       "    </tr>\n",
       "    <tr>\n",
       "      <th>Comedy</th>\n",
       "      <td>3</td>\n",
       "      <td>5</td>\n",
       "      <td>5</td>\n",
       "      <td>23</td>\n",
       "    </tr>\n",
       "    <tr>\n",
       "      <th>Romance</th>\n",
       "      <td>3</td>\n",
       "      <td>3</td>\n",
       "      <td>4</td>\n",
       "      <td>15</td>\n",
       "    </tr>\n",
       "    <tr>\n",
       "      <th>Thriller</th>\n",
       "      <td>4</td>\n",
       "      <td>1</td>\n",
       "      <td>1</td>\n",
       "      <td>20</td>\n",
       "    </tr>\n",
       "    <tr>\n",
       "      <th>Thriller</th>\n",
       "      <td>0</td>\n",
       "      <td>0</td>\n",
       "      <td>1</td>\n",
       "      <td>2</td>\n",
       "    </tr>\n",
       "  </tbody>\n",
       "</table>\n",
       "</div>"
      ],
      "text/plain": [
       "ReleaseTime  FS  HS  LW   N\n",
       "Genre                      \n",
       " Drama        4   6   1  24\n",
       "Action        3   3   3  12\n",
       "Action        0   0   0   3\n",
       "Comedy        3   5   5  23\n",
       "Romance       3   3   4  15\n",
       "Thriller      4   1   1  20\n",
       "Thriller      0   0   1   2"
      ]
     },
     "execution_count": 5,
     "metadata": {},
     "output_type": "execute_result"
    }
   ],
   "source": [
    "# Question 4\n",
    "\n",
    "crosstable = pd.crosstab(index = df['Genre'], columns = df['ReleaseTime'])\n",
    "crosstable"
   ]
  },
  {
   "cell_type": "code",
   "execution_count": 6,
   "id": "7cbb0494",
   "metadata": {},
   "outputs": [
    {
     "name": "stdout",
     "output_type": "stream",
     "text": [
      "1    20\n",
      "Name: Month, dtype: int64\n",
      "Maximum movies are in januray with a total of 20 movies\n"
     ]
    }
   ],
   "source": [
    "# Question 5\n",
    "\n",
    "df['Release Date'] = pd.to_datetime(df['Release Date'])\n",
    "df['Month'] = df['Release Date'].dt.month\n",
    "\n",
    "max_months  = df['Month'].value_counts().nlargest(n=1)\n",
    "print(max_months)\n",
    "print(\"Maximum movies are in januray with a total of 20 movies\")"
   ]
  },
  {
   "cell_type": "code",
   "execution_count": 7,
   "id": "5e28bf83",
   "metadata": {},
   "outputs": [
    {
     "name": "stdout",
     "output_type": "stream",
     "text": [
      "2    9\n",
      "Name: Month, dtype: int64\n",
      "The Highest big budget movies are in february with 9 movies\n"
     ]
    }
   ],
   "source": [
    "# Question 6\n",
    "\n",
    "high_budget_releases  = df.loc[df['Budget'] > 25]['Month'].value_counts().nlargest(n=1)\n",
    "print(high_budget_releases)\n",
    "print(\"The Highest big budget movies are in february with 9 movies\")"
   ]
  },
  {
   "cell_type": "code",
   "execution_count": 8,
   "id": "6631eccc",
   "metadata": {},
   "outputs": [
    {
     "name": "stdout",
     "output_type": "stream",
     "text": [
      "Top 10 movies with the highest ROI are: \n"
     ]
    },
    {
     "data": {
      "text/html": [
       "<div>\n",
       "<style scoped>\n",
       "    .dataframe tbody tr th:only-of-type {\n",
       "        vertical-align: middle;\n",
       "    }\n",
       "\n",
       "    .dataframe tbody tr th {\n",
       "        vertical-align: top;\n",
       "    }\n",
       "\n",
       "    .dataframe thead th {\n",
       "        text-align: right;\n",
       "    }\n",
       "</style>\n",
       "<table border=\"1\" class=\"dataframe\">\n",
       "  <thead>\n",
       "    <tr style=\"text-align: right;\">\n",
       "      <th></th>\n",
       "      <th>SlNo</th>\n",
       "      <th>Release Date</th>\n",
       "      <th>MovieName</th>\n",
       "      <th>ReleaseTime</th>\n",
       "      <th>Genre</th>\n",
       "      <th>Budget</th>\n",
       "      <th>BoxOfficeCollection</th>\n",
       "      <th>YoutubeViews</th>\n",
       "      <th>YoutubeLikes</th>\n",
       "      <th>YoutubeDislikes</th>\n",
       "      <th>Month</th>\n",
       "      <th>ROI</th>\n",
       "    </tr>\n",
       "  </thead>\n",
       "  <tbody>\n",
       "    <tr>\n",
       "      <th>64</th>\n",
       "      <td>65</td>\n",
       "      <td>2013-04-26</td>\n",
       "      <td>Aashiqui 2</td>\n",
       "      <td>N</td>\n",
       "      <td>Romance</td>\n",
       "      <td>12</td>\n",
       "      <td>110.0</td>\n",
       "      <td>2926673</td>\n",
       "      <td>4944</td>\n",
       "      <td>628</td>\n",
       "      <td>4</td>\n",
       "      <td>8.166667</td>\n",
       "    </tr>\n",
       "    <tr>\n",
       "      <th>89</th>\n",
       "      <td>90</td>\n",
       "      <td>2014-12-19</td>\n",
       "      <td>PK</td>\n",
       "      <td>HS</td>\n",
       "      <td>Drama</td>\n",
       "      <td>85</td>\n",
       "      <td>735.0</td>\n",
       "      <td>13270623</td>\n",
       "      <td>43767</td>\n",
       "      <td>5693</td>\n",
       "      <td>12</td>\n",
       "      <td>7.647059</td>\n",
       "    </tr>\n",
       "    <tr>\n",
       "      <th>132</th>\n",
       "      <td>133</td>\n",
       "      <td>2013-09-13</td>\n",
       "      <td>Grand Masti</td>\n",
       "      <td>LW</td>\n",
       "      <td>Comedy</td>\n",
       "      <td>35</td>\n",
       "      <td>298.0</td>\n",
       "      <td>1795640</td>\n",
       "      <td>3015</td>\n",
       "      <td>721</td>\n",
       "      <td>9</td>\n",
       "      <td>7.514286</td>\n",
       "    </tr>\n",
       "    <tr>\n",
       "      <th>135</th>\n",
       "      <td>136</td>\n",
       "      <td>2013-09-20</td>\n",
       "      <td>The Lunchbox</td>\n",
       "      <td>N</td>\n",
       "      <td>Drama</td>\n",
       "      <td>10</td>\n",
       "      <td>85.0</td>\n",
       "      <td>1064854</td>\n",
       "      <td>4054</td>\n",
       "      <td>285</td>\n",
       "      <td>9</td>\n",
       "      <td>7.500000</td>\n",
       "    </tr>\n",
       "    <tr>\n",
       "      <th>87</th>\n",
       "      <td>88</td>\n",
       "      <td>2013-06-14</td>\n",
       "      <td>Fukrey</td>\n",
       "      <td>N</td>\n",
       "      <td>Comedy</td>\n",
       "      <td>5</td>\n",
       "      <td>36.2</td>\n",
       "      <td>227912</td>\n",
       "      <td>222</td>\n",
       "      <td>39</td>\n",
       "      <td>6</td>\n",
       "      <td>6.240000</td>\n",
       "    </tr>\n",
       "    <tr>\n",
       "      <th>58</th>\n",
       "      <td>59</td>\n",
       "      <td>2014-09-05</td>\n",
       "      <td>Mary Kom</td>\n",
       "      <td>N</td>\n",
       "      <td>Drama</td>\n",
       "      <td>15</td>\n",
       "      <td>104.0</td>\n",
       "      <td>6086811</td>\n",
       "      <td>26560</td>\n",
       "      <td>1647</td>\n",
       "      <td>9</td>\n",
       "      <td>5.933333</td>\n",
       "    </tr>\n",
       "    <tr>\n",
       "      <th>128</th>\n",
       "      <td>129</td>\n",
       "      <td>2013-10-18</td>\n",
       "      <td>Shahid</td>\n",
       "      <td>FS</td>\n",
       "      <td>Drama</td>\n",
       "      <td>6</td>\n",
       "      <td>40.0</td>\n",
       "      <td>1148516</td>\n",
       "      <td>3155</td>\n",
       "      <td>396</td>\n",
       "      <td>10</td>\n",
       "      <td>5.666667</td>\n",
       "    </tr>\n",
       "    <tr>\n",
       "      <th>37</th>\n",
       "      <td>38</td>\n",
       "      <td>2014-07-11</td>\n",
       "      <td>Humpty Sharma Ki Dulhania</td>\n",
       "      <td>N</td>\n",
       "      <td>Romance</td>\n",
       "      <td>20</td>\n",
       "      <td>130.0</td>\n",
       "      <td>6604595</td>\n",
       "      <td>14535</td>\n",
       "      <td>2208</td>\n",
       "      <td>7</td>\n",
       "      <td>5.500000</td>\n",
       "    </tr>\n",
       "    <tr>\n",
       "      <th>101</th>\n",
       "      <td>102</td>\n",
       "      <td>2013-07-12</td>\n",
       "      <td>Bhaag Milkha Bhaag</td>\n",
       "      <td>N</td>\n",
       "      <td>Drama</td>\n",
       "      <td>30</td>\n",
       "      <td>164.0</td>\n",
       "      <td>2635390</td>\n",
       "      <td>4622</td>\n",
       "      <td>456</td>\n",
       "      <td>7</td>\n",
       "      <td>4.466667</td>\n",
       "    </tr>\n",
       "    <tr>\n",
       "      <th>115</th>\n",
       "      <td>116</td>\n",
       "      <td>2013-08-09</td>\n",
       "      <td>Chennai Express</td>\n",
       "      <td>FS</td>\n",
       "      <td>Comedy</td>\n",
       "      <td>75</td>\n",
       "      <td>395.0</td>\n",
       "      <td>1882346</td>\n",
       "      <td>7954</td>\n",
       "      <td>1593</td>\n",
       "      <td>8</td>\n",
       "      <td>4.266667</td>\n",
       "    </tr>\n",
       "  </tbody>\n",
       "</table>\n",
       "</div>"
      ],
      "text/plain": [
       "     SlNo Release Date                  MovieName ReleaseTime    Genre  \\\n",
       "64     65   2013-04-26                 Aashiqui 2           N  Romance   \n",
       "89     90   2014-12-19                         PK          HS   Drama    \n",
       "132   133   2013-09-13                Grand Masti          LW   Comedy   \n",
       "135   136   2013-09-20               The Lunchbox           N   Drama    \n",
       "87     88   2013-06-14                     Fukrey           N   Comedy   \n",
       "58     59   2014-09-05                   Mary Kom           N   Drama    \n",
       "128   129   2013-10-18                     Shahid          FS   Drama    \n",
       "37     38   2014-07-11  Humpty Sharma Ki Dulhania           N  Romance   \n",
       "101   102   2013-07-12         Bhaag Milkha Bhaag           N   Drama    \n",
       "115   116   2013-08-09            Chennai Express          FS   Comedy   \n",
       "\n",
       "     Budget  BoxOfficeCollection  YoutubeViews  YoutubeLikes  YoutubeDislikes  \\\n",
       "64       12                110.0       2926673          4944              628   \n",
       "89       85                735.0      13270623         43767             5693   \n",
       "132      35                298.0       1795640          3015              721   \n",
       "135      10                 85.0       1064854          4054              285   \n",
       "87        5                 36.2        227912           222               39   \n",
       "58       15                104.0       6086811         26560             1647   \n",
       "128       6                 40.0       1148516          3155              396   \n",
       "37       20                130.0       6604595         14535             2208   \n",
       "101      30                164.0       2635390          4622              456   \n",
       "115      75                395.0       1882346          7954             1593   \n",
       "\n",
       "     Month       ROI  \n",
       "64       4  8.166667  \n",
       "89      12  7.647059  \n",
       "132      9  7.514286  \n",
       "135      9  7.500000  \n",
       "87       6  6.240000  \n",
       "58       9  5.933333  \n",
       "128     10  5.666667  \n",
       "37       7  5.500000  \n",
       "101      7  4.466667  \n",
       "115      8  4.266667  "
      ]
     },
     "execution_count": 8,
     "metadata": {},
     "output_type": "execute_result"
    }
   ],
   "source": [
    "# Question 7\n",
    "\n",
    "df['ROI'] = (df['BoxOfficeCollection'] - df['Budget']) / df['Budget']\n",
    "print(\"Top 10 movies with the highest ROI are: \")\n",
    "df_new = df.nlargest(n=10, columns=['ROI']).head(10)\n",
    "df_new"
   ]
  },
  {
   "cell_type": "code",
   "execution_count": 9,
   "id": "0fd98343",
   "metadata": {},
   "outputs": [
    {
     "name": "stdout",
     "output_type": "stream",
     "text": [
      "N     99\n",
      "HS    18\n",
      "FS    17\n",
      "LW    15\n",
      "Name: ReleaseTime, dtype: int64\n",
      "avg roi of movies during festive season:  0.9738532013595953\n",
      "avg roi of movies during long weekend:   1.1272053098737973\n",
      "avg roi of movies during Holiday season:  0.8508667840873724\n",
      "avg roi of movies during Normal days:   0.6577216305350877\n"
     ]
    }
   ],
   "source": [
    "# Question 8 \n",
    "\n",
    "rt_roi_relation = df['ReleaseTime'].value_counts()\n",
    "print(rt_roi_relation)\n",
    "\n",
    "avg_roi_FS = df.loc[df['ReleaseTime'] == 'FS']['ROI'].mean()\n",
    "print(\"avg roi of movies during festive season: \", avg_roi_FS)\n",
    "avg_roi_LW = df.loc[df['ReleaseTime'] == 'LW']['ROI'].mean()\n",
    "print(\"avg roi of movies during long weekend:  \", avg_roi_LW)\n",
    "avg_roi_HS = df.loc[df['ReleaseTime'] == 'HS']['ROI'].mean()\n",
    "print(\"avg roi of movies during Holiday season: \", avg_roi_HS)\n",
    "avg_roi_N = df.loc[df['ReleaseTime'] == 'N']['ROI'].mean()\n",
    "print(\"avg roi of movies during Normal days:  \", avg_roi_N)"
   ]
  },
  {
   "cell_type": "code",
   "execution_count": 10,
   "id": "7b190fb4",
   "metadata": {},
   "outputs": [
    {
     "name": "stdout",
     "output_type": "stream",
     "text": [
      "the correlation between box office collection and youtube likes are 0.6825165877731297\n"
     ]
    }
   ],
   "source": [
    "# Question 9 \n",
    "\n",
    "print('the correlation between box office collection and youtube likes are', df['BoxOfficeCollection'].corr(df['YoutubeLikes']))"
   ]
  },
  {
   "cell_type": "code",
   "execution_count": 11,
   "id": "f27ebb16",
   "metadata": {},
   "outputs": [
    {
     "name": "stdout",
     "output_type": "stream",
     "text": [
      "Comedy      36\n",
      "Drama       35\n",
      "Thriller    29\n",
      "Romance     25\n",
      "Action      24\n",
      "Name: Genre, dtype: int64\n"
     ]
    },
    {
     "data": {
      "image/png": "[encoded data removed]",
      "text/plain": [
       "<Figure size 432x288 with 1 Axes>"
      ]
     },
     "metadata": {
      "needs_background": "light"
     },
     "output_type": "display_data"
    }
   ],
   "source": [
    "# Question 10 \n",
    "\n",
    "values = df['Genre'].str.strip().value_counts(ascending=False)\n",
    "print(values)\n",
    "\n",
    "Comedy = df.loc[df['Genre'] == 'Comedy', 'YoutubeLikes']\n",
    "Drama = df.loc[df['Genre'] == 'Drama', 'YoutubeLikes']\n",
    "Thriller = df.loc[df['Genre'] == 'Thriller', 'YoutubeLikes']\n",
    "Romance = df.loc[df['Genre'] == 'Romance', 'YoutubeLikes']\n",
    "Action = df.loc[df['Genre'] == 'Action', 'YoutubeLikes']\n",
    "\n",
    "movie_data = [Comedy, Drama, Thriller, Romance, Action]\n",
    "plt.boxplot(movie_data)\n",
    "\n",
    "plt.show()"
   ]
  },
  {
   "cell_type": "code",
   "execution_count": 12,
   "id": "302c4bea",
   "metadata": {},
   "outputs": [
    {
     "data": {
      "text/plain": [
       "<AxesSubplot:>"
      ]
     },
     "execution_count": 12,
     "metadata": {},
     "output_type": "execute_result"
    },
    {
     "data": {
      "image/png": "[encoded data removed]",
      "text/plain": [
       "<Figure size 432x288 with 2 Axes>"
      ]
     },
     "metadata": {
      "needs_background": "light"
     },
     "output_type": "display_data"
    }
   ],
   "source": [
    "# Question 11\n",
    "\n",
    "correlation = df[['Budget','BoxOfficeCollection','YoutubeViews','YoutubeLikes','YoutubeDislikes']].corr()\n",
    "sns.heatmap(correlation , annot = True, fmt='.2g',cmap= 'coolwarm') "
   ]
  },
  {
   "cell_type": "code",
   "execution_count": 16,
   "id": "3a75b555",
   "metadata": {},
   "outputs": [
    {
     "data": {
      "image/png": "[encoded data removed]",
      "text/plain": [
       "<Figure size 432x288 with 1 Axes>"
      ]
     },
     "metadata": {
      "needs_background": "light"
     },
     "output_type": "display_data"
    }
   ],
   "source": [
    "# Question 12\n",
    "\n",
    "df['Year'] = df['Release Date'].dt.year\n",
    "new_df = df[df.Year-2013 <= 2]\n",
    "new_df.head()\n",
    "X = ['Romance', 'Thriller', 'Comedy', 'Drama', 'Action']\n",
    "Budget = [new_df.loc[new_df.Genre == 'Romance', 'Budget'].sum(), \n",
    "          new_df.loc[new_df.Genre == 'Thriller', 'Budget'].sum(),\n",
    "          new_df.loc[new_df.Genre == 'Comedy', 'Budget'].sum(),\n",
    "          new_df.loc[new_df.Genre == ' Drama ', 'Budget'].sum(),\n",
    "          new_df.loc[new_df.Genre == 'Action', 'Budget'].sum()]\n",
    "BoxOffice = [new_df.loc[new_df.Genre == 'Romance', 'BoxOfficeCollection'].sum(), \n",
    "             new_df.loc[new_df.Genre == 'Thriller', 'BoxOfficeCollection'].sum(),\n",
    "             new_df.loc[new_df.Genre == 'Comedy', 'BoxOfficeCollection'].sum(),\n",
    "             new_df.loc[new_df.Genre == ' Drama ', 'BoxOfficeCollection'].sum(),\n",
    "             new_df.loc[new_df.Genre == 'Action', 'BoxOfficeCollection'].sum()]\n",
    "X_axis = np.arange(len(X))\n",
    "\n",
    "plt.bar(X_axis - 0.2, Budget, 0.4, label = 'Budget')\n",
    "plt.bar(X_axis + 0.2, BoxOffice, 0.4, label = 'BoxOffice')\n",
    "\n",
    "plt.xticks(X_axis, X)\n",
    "plt.ylabel('Cost')\n",
    "plt.xlabel(\"Genre\")\n",
    "\n",
    "plt.legend()\n",
    "plt.show()"
   ]
  },
  {
   "cell_type": "code",
   "execution_count": 17,
   "id": "39edb9ab",
   "metadata": {},
   "outputs": [
    {
     "data": {
      "image/png": "[encoded data removed]",
      "text/plain": [
       "<Figure size 432x288 with 1 Axes>"
      ]
     },
     "metadata": {
      "needs_background": "light"
     },
     "output_type": "display_data"
    }
   ],
   "source": [
    "# Question 13\n",
    "\n",
    "X = ['Romance', 'Thriller', 'Comedy', 'Drama', 'Action']\n",
    "Budget = [df.loc[df.Genre == 'Romance', 'Budget'].sum(), \n",
    "          df.loc[df.Genre == 'Thriller', 'Budget'].sum(),\n",
    "          df.loc[df.Genre == 'Comedy', 'Budget'].sum(),\n",
    "          df.loc[df.Genre == ' Drama ', 'Budget'].sum(),\n",
    "          df.loc[df.Genre == 'Action', 'Budget'].sum()]\n",
    "BoxOffice = [df.loc[df.Genre == 'Romance', 'BoxOfficeCollection'].sum(), \n",
    "             df.loc[df.Genre == 'Thriller', 'BoxOfficeCollection'].sum(),\n",
    "             df.loc[df.Genre == 'Comedy', 'BoxOfficeCollection'].sum(),\n",
    "             df.loc[df.Genre == ' Drama ', 'BoxOfficeCollection'].sum(),\n",
    "             df.loc[df.Genre == 'Action', 'BoxOfficeCollection'].sum()]\n",
    "X_axis = np.arange(len(X))\n",
    "\n",
    "plt.bar(X_axis - 0.2, Budget, 0.4, label = 'Budget')\n",
    "plt.bar(X_axis + 0.2, BoxOffice, 0.4, label = 'BoxOffice')\n",
    "\n",
    "plt.xticks(X_axis, X)\n",
    "plt.ylabel('Cost')\n",
    "plt.xlabel(\"Genre\")\n",
    "\n",
    "plt.legend()\n",
    "plt.show()\n"
   ]
  },
  {
   "cell_type": "code",
   "execution_count": 31,
   "id": "4db46e95",
   "metadata": {},
   "outputs": [
    {
     "data": {
      "image/png": "[encoded data removed]",
      "text/plain": [
       "<Figure size 432x288 with 1 Axes>"
      ]
     },
     "metadata": {
      "needs_background": "light"
     },
     "output_type": "display_data"
    }
   ],
   "source": [
    "# Question 14\n",
    "\n",
    "X = ['Romance', 'Thriller', 'Comedy', 'Drama', 'Action']\n",
    "Budget = [df.loc[df.Genre == 'Romance', 'Budget'].sum(), \n",
    "          df.loc[df.Genre == 'Thriller', 'Budget'].sum(),\n",
    "          df.loc[df.Genre == 'Comedy', 'Budget'].sum(),\n",
    "          df.loc[df.Genre == ' Drama ', 'Budget'].sum(),\n",
    "          df.loc[df.Genre == 'Action', 'Budget'].sum()]\n",
    "BoxOffice = [df.loc[df.Genre == 'Romance', 'BoxOfficeCollection'].sum(), \n",
    "             df.loc[df.Genre == 'Thriller', 'BoxOfficeCollection'].sum(),\n",
    "             df.loc[df.Genre == 'Comedy', 'BoxOfficeCollection'].sum(),\n",
    "             df.loc[df.Genre == ' Drama ', 'BoxOfficeCollection'].sum(),\n",
    "             df.loc[df.Genre == 'Action', 'BoxOfficeCollection'].sum()]\n",
    "X_axis = np.arange(len(X))\n",
    "\n",
    "plt.bar(X_axis, Budget, 0,4, label = 'Budget')\n",
    "\n",
    "plt.xticks(X_axis, X)\n",
    "plt.ylabel('Cost')\n",
    "plt.xlabel(\"Genre\")\n",
    "\n",
    "plt.legend()\n",
    "plt.show()\n"
   ]
  },
  {
   "cell_type": "code",
   "execution_count": 30,
   "id": "2e7ea101",
   "metadata": {},
   "outputs": [
    {
     "name": "stdout",
     "output_type": "stream",
     "text": [
      "[67, 70, 70]\n"
     ]
    },
    {
     "data": {
      "image/png": "[encoded data removed]",
      "text/plain": [
       "<Figure size 432x288 with 1 Axes>"
      ]
     },
     "metadata": {
      "needs_background": "light"
     },
     "output_type": "display_data"
    }
   ],
   "source": [
    "# Question 15\n",
    "\n",
    "X = ['2013', '2014', '2015']\n",
    "year_count = [df.loc[df.Year == 2013, 'Year'].count(), \n",
    "          df.loc[df.Year == 2014, 'Year'].count(),\n",
    "          df.loc[df.Year == 2014, 'Year'].count()]\n",
    "X_axis = np.arange(len(X))\n",
    "print(year_count)\n",
    "\n",
    "plt.bar(X_axis, year_count, label = 'Year')\n",
    "\n",
    "plt.xticks(X_axis, X)\n",
    "plt.ylabel('Number of Movies')\n",
    "plt.xlabel('Year')\n",
    "\n",
    "plt.legend()\n",
    "plt.show()"
   ]
  }
 ],
 "metadata": {
  "kernelspec": {
   "display_name": "Python 3 (ipykernel)",
   "language": "python",
   "name": "python3"
  },
  "language_info": {
   "codemirror_mode": {
    "name": "ipython",
    "version": 3
   },
   "file_extension": ".py",
   "mimetype": "text/x-python",
   "name": "python",
   "nbconvert_exporter": "python",
   "pygments_lexer": "ipython3",
   "version": "3.8.10"
  }
 },
 "nbformat": 4,
 "nbformat_minor": 5
}
